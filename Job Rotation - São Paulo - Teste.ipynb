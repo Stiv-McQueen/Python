{
  "nbformat": 4,
  "nbformat_minor": 0,
  "metadata": {
    "colab": {
      "provenance": [],
      "mount_file_id": "1wp56BJDdb6b_9_Hlsy9kRaTHeUWEXl4H",
      "authorship_tag": "ABX9TyOkYJkhNTLBMPnMFjVOSO5E",
      "include_colab_link": true
    },
    "kernelspec": {
      "name": "python3",
      "display_name": "Python 3"
    },
    "language_info": {
      "name": "python"
    }
  },
  "cells": [
    {
      "cell_type": "markdown",
      "metadata": {
        "id": "view-in-github",
        "colab_type": "text"
      },
      "source": [
        "<a href=\"https://colab.research.google.com/github/Stiv-McQueen/Python-Data-Science/blob/main/Job%20Rotation%20-%20S%C3%A3o%20Paulo%20-%20Teste.ipynb\" target=\"_parent\"><img src=\"https://colab.research.google.com/assets/colab-badge.svg\" alt=\"Open In Colab\"/></a>"
      ]
    },
    {
      "cell_type": "code",
      "source": [
        "#2. Recebe o número do usuário\n",
        "num = int(input(\"Digite um número: \"))\n",
        "\n",
        "# Inicializa as variáveis que representam os dois primeiros números da sequência\n",
        "fib_antes = 0\n",
        "fib_atual = 1\n",
        "\n",
        "# Percorre a sequência de Fibonacci até que o número seja encontrado ou até que a sequência termine\n",
        "while fib_atual < num:\n",
        "    # Atualiza os valores da sequência\n",
        "    temp = fib_atual\n",
        "    fib_atual = fib_antes + fib_atual\n",
        "    fib_antes = temp\n",
        "    \n",
        "# Verifica se o número foi encontrado na sequência ou não\n",
        "if fib_atual == num:\n",
        "    print(num, \"pertence à sequência de Fibonacci!\")\n",
        "else:\n",
        "    print(num, \"não pertence à sequência de Fibonacci.\")"
      ],
      "metadata": {
        "colab": {
          "base_uri": "https://localhost:8080/"
        },
        "id": "z0FMZidw3yt3",
        "outputId": "1c7993d2-e8de-4c9a-832a-541329e04b81"
      },
      "execution_count": null,
      "outputs": [
        {
          "output_type": "stream",
          "name": "stdout",
          "text": [
            "Digite um número: 10\n",
            "10 não pertence à sequência de Fibonacci.\n"
          ]
        }
      ]
    },
    {
      "cell_type": "code",
      "source": [
        "import json\n",
        "\n",
        "from google.colab import drive\n",
        "drive.mount('/content/drive')\n",
        "\n",
        "#3. \n",
        "with open('/content/drive/MyDrive/dados.json') as f:\n",
        "    faturamento_mensal = json.load(f)\n",
        "\n",
        "faturamento_diario = [dia['valor'] for dia in faturamento_mensal]\n",
        "\n",
        "menor_valor = min(faturamento_diario)\n",
        "\n",
        "maior_valor = max(faturamento_diario)\n",
        "\n",
        "dias_com_faturamento = [dia for dia in faturamento_mensal if dia['valor'] > 0]\n",
        "media_mensal = sum([dia['valor'] for dia in dias_com_faturamento]) / len(dias_com_faturamento)\n",
        "\n",
        "dias_acima_media = sum([1 for dia in dias_com_faturamento if dia['valor'] > media_mensal])\n",
        "\n",
        "# Imprima os resultados\n",
        "print(\"Menor valor de faturamento diário: R$\", round(menor_valor,2))\n",
        "print(\"Maior valor de faturamento diário: R$\", round(maior_valor,2))\n",
        "print(\"Número de dias com faturamento acima da média mensal:\", dias_acima_media)"
      ],
      "metadata": {
        "colab": {
          "base_uri": "https://localhost:8080/"
        },
        "id": "661XG2XLk089",
        "outputId": "85260f05-eee8-4d71-f22d-37dab8c22f82"
      },
      "execution_count": 22,
      "outputs": [
        {
          "output_type": "stream",
          "name": "stdout",
          "text": [
            "Drive already mounted at /content/drive; to attempt to forcibly remount, call drive.mount(\"/content/drive\", force_remount=True).\n",
            "Menor valor de faturamento diário: R$ 0.0\n",
            "Maior valor de faturamento diário: R$ 48924.24\n",
            "Número de dias com faturamento acima da média mensal: 10\n"
          ]
        }
      ]
    },
    {
      "cell_type": "code",
      "source": [
        "#4. Definindo o faturamento mensal de cada estado\n",
        "faturamento_sp = 67836.43\n",
        "faturamento_rj = 36678.66\n",
        "faturamento_mg = 29229.88\n",
        "faturamento_es = 27165.48\n",
        "faturamento_outros = 19849.53\n",
        "\n",
        "# Calculando o faturamento total mensal\n",
        "faturamento_total = faturamento_sp + faturamento_rj + faturamento_mg + faturamento_es + faturamento_outros\n",
        "\n",
        "# Calculando o percentual de representação de cada estado no faturamento total\n",
        "percentual_sp = (faturamento_sp / faturamento_total) * 100\n",
        "percentual_rj = (faturamento_rj / faturamento_total) * 100\n",
        "percentual_mg = (faturamento_mg / faturamento_total) * 100\n",
        "percentual_es = (faturamento_es / faturamento_total) * 100\n",
        "percentual_outros = (faturamento_outros / faturamento_total) * 100\n",
        "\n",
        "# Imprimindo os resultados\n",
        "print(\"Percentual de representação de cada estado no faturamento total mensal:\")\n",
        "print(\"SP:\", round(percentual_sp, 2), \"%\")\n",
        "print(\"RJ:\", round(percentual_rj, 2) , \"%\")\n",
        "print(\"MG:\", round(percentual_mg, 2), \"%\")\n",
        "print(\"ES:\", round(percentual_es, 2), \"%\")\n",
        "print(\"Outros:\", round(percentual_outros, 2), \"%\")"
      ],
      "metadata": {
        "id": "x3BSu-hNikDq",
        "colab": {
          "base_uri": "https://localhost:8080/"
        },
        "outputId": "2eed0fd4-3f0a-411a-a5be-746f907d558d"
      },
      "execution_count": 4,
      "outputs": [
        {
          "output_type": "stream",
          "name": "stdout",
          "text": [
            "Percentual de representação de cada estado no faturamento total mensal:\n",
            "SP: 37.53 %\n",
            "RJ: 20.29 %\n",
            "MG: 16.17 %\n",
            "ES: 15.03 %\n",
            "Outros: 10.98 %\n"
          ]
        }
      ]
    },
    {
      "cell_type": "code",
      "source": [
        "#5. Invertendo string\n",
        "string = input(\"Digite uma string: \")\n",
        "string_invertida = \"\"\n",
        "\n",
        "for i in range(len(string)-1, -1, -1):\n",
        "    string_invertida += string[i]\n",
        "\n",
        "print(\"A string invertida é:\", string_invertida)"
      ],
      "metadata": {
        "colab": {
          "base_uri": "https://localhost:8080/"
        },
        "id": "sRtCH-NTjF3v",
        "outputId": "53e0c9e6-b900-4e14-ae4e-08d6661cb76e"
      },
      "execution_count": 6,
      "outputs": [
        {
          "output_type": "stream",
          "name": "stdout",
          "text": [
            "Digite uma string: amor\n",
            "A string invertida é: roma\n"
          ]
        }
      ]
    },
    {
      "cell_type": "code",
      "source": [],
      "metadata": {
        "id": "tQy2nkCrkRti"
      },
      "execution_count": null,
      "outputs": []
    }
  ]
}